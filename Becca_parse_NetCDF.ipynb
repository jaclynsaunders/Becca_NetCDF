{
 "cells": [
  {
   "cell_type": "code",
   "execution_count": 1,
   "metadata": {
    "ExecuteTime": {
     "end_time": "2020-04-28T19:10:16.719683Z",
     "start_time": "2020-04-28T19:10:16.683167Z"
    }
   },
   "outputs": [],
   "source": [
    "from netCDF4 import Dataset, MFDataset, num2date\n",
    "import sys\n",
    "import os"
   ]
  },
  {
   "cell_type": "code",
   "execution_count": 2,
   "metadata": {
    "ExecuteTime": {
     "end_time": "2020-04-28T19:10:24.339250Z",
     "start_time": "2020-04-28T19:10:24.313419Z"
    }
   },
   "outputs": [],
   "source": [
    "flf = Dataset('./Oxygen_annual_statisticalMean_woa13_all_o00_01.nc')"
   ]
  },
  {
   "cell_type": "code",
   "execution_count": 3,
   "metadata": {
    "ExecuteTime": {
     "end_time": "2020-04-28T19:10:31.002266Z",
     "start_time": "2020-04-28T19:10:30.967493Z"
    }
   },
   "outputs": [
    {
     "data": {
      "text/plain": [
       "OrderedDict([('crs', <class 'netCDF4._netCDF4.Variable'>\n",
       "              int32 crs()\n",
       "                  grid_mapping_name: latitude_longitude\n",
       "                  epsg_code: EPSG:4326\n",
       "                  longitude_of_prime_meridian: 0.0\n",
       "                  semi_major_axis: 6378137.0\n",
       "                  inverse_flattening: 298.25723\n",
       "              unlimited dimensions: \n",
       "              current shape = ()\n",
       "              filling on, default _FillValue of -2147483647 used),\n",
       "             ('lat', <class 'netCDF4._netCDF4.Variable'>\n",
       "              float32 lat(lat)\n",
       "                  standard_name: latitude\n",
       "                  long_name: latitude\n",
       "                  units: degrees_north\n",
       "                  axis: Y\n",
       "                  bounds: lat_bnds\n",
       "              unlimited dimensions: \n",
       "              current shape = (180,)\n",
       "              filling on, default _FillValue of 9.969209968386869e+36 used),\n",
       "             ('lat_bnds', <class 'netCDF4._netCDF4.Variable'>\n",
       "              float32 lat_bnds(lat, nbounds)\n",
       "                  comment: latitude bounds\n",
       "              unlimited dimensions: \n",
       "              current shape = (180, 2)\n",
       "              filling on, default _FillValue of 9.969209968386869e+36 used),\n",
       "             ('lon', <class 'netCDF4._netCDF4.Variable'>\n",
       "              float32 lon(lon)\n",
       "                  standard_name: longitude\n",
       "                  long_name: longitude\n",
       "                  units: degrees_east\n",
       "                  axis: X\n",
       "                  bounds: lon_bnds\n",
       "              unlimited dimensions: \n",
       "              current shape = (360,)\n",
       "              filling on, default _FillValue of 9.969209968386869e+36 used),\n",
       "             ('lon_bnds', <class 'netCDF4._netCDF4.Variable'>\n",
       "              float32 lon_bnds(lon, nbounds)\n",
       "                  comment: longitude bounds\n",
       "              unlimited dimensions: \n",
       "              current shape = (360, 2)\n",
       "              filling on, default _FillValue of 9.969209968386869e+36 used),\n",
       "             ('depth', <class 'netCDF4._netCDF4.Variable'>\n",
       "              float32 depth(depth)\n",
       "                  standard_name: depth\n",
       "                  bounds: depth_bnds\n",
       "                  positive: down\n",
       "                  units: meters\n",
       "                  axis: Z\n",
       "              unlimited dimensions: \n",
       "              current shape = (102,)\n",
       "              filling on, default _FillValue of 9.969209968386869e+36 used),\n",
       "             ('depth_bnds', <class 'netCDF4._netCDF4.Variable'>\n",
       "              float32 depth_bnds(depth, nbounds)\n",
       "                  comment: depth bounds\n",
       "              unlimited dimensions: \n",
       "              current shape = (102, 2)\n",
       "              filling on, default _FillValue of 9.969209968386869e+36 used),\n",
       "             ('time', <class 'netCDF4._netCDF4.Variable'>\n",
       "              float32 time(time)\n",
       "                  standard_name: time\n",
       "                  long_name: time\n",
       "                  units: months since 0000-01-01 00:00:00\n",
       "                  axis: T\n",
       "                  climatology: climatology_bounds\n",
       "              unlimited dimensions: \n",
       "              current shape = (1,)\n",
       "              filling on, default _FillValue of 9.969209968386869e+36 used),\n",
       "             ('climatology_bounds', <class 'netCDF4._netCDF4.Variable'>\n",
       "              float32 climatology_bounds(time, nbounds)\n",
       "                  comment: This variable defines the bounds of the climatological time period for each time\n",
       "              unlimited dimensions: \n",
       "              current shape = (1, 2)\n",
       "              filling on, default _FillValue of 9.969209968386869e+36 used),\n",
       "             ('o_an', <class 'netCDF4._netCDF4.Variable'>\n",
       "              float32 o_an(time, depth, lat, lon)\n",
       "                  standard_name: volume_fraction_of_oxygen_in_sea_water\n",
       "                  long_name: Objectively analyzed mean fields for volume_fraction_of_oxygen_in_sea_water at standard depth levels.\n",
       "                  cell_methods: area: mean depth: mean time: mean\n",
       "                  grid_mapping: crs\n",
       "                  units: milliliters_per_liter\n",
       "                  _FillValue: 9.96921e+36\n",
       "              unlimited dimensions: \n",
       "              current shape = (1, 102, 180, 360)\n",
       "              filling on),\n",
       "             ('o_mn', <class 'netCDF4._netCDF4.Variable'>\n",
       "              float32 o_mn(time, depth, lat, lon)\n",
       "                  standard_name: volume_fraction_of_oxygen_in_sea_water\n",
       "                  long_name: Average of all unflagged interpolated values at each standard depth level for volume_fraction_of_oxygen_in_sea_water in each grid-square which contain at least one measurement.\n",
       "                  cell_methods: area: mean depth: mean time: mean\n",
       "                  grid_mapping: crs\n",
       "                  units: milliliters_per_liter\n",
       "                  _FillValue: 9.96921e+36\n",
       "              unlimited dimensions: \n",
       "              current shape = (1, 102, 180, 360)\n",
       "              filling on),\n",
       "             ('o_dd', <class 'netCDF4._netCDF4.Variable'>\n",
       "              int32 o_dd(time, depth, lat, lon)\n",
       "                  standard_name: volume_fraction_of_oxygen_in_sea_water\n",
       "                  long_name: The number of observations of volume_fraction_of_oxygen_in_sea_water in each grid-square at each standard depth level.\n",
       "                  cell_methods: area: sum depth: point time: sum\n",
       "                  grid_mapping: crs\n",
       "                  units: 1\n",
       "                  _FillValue: -32767\n",
       "              unlimited dimensions: \n",
       "              current shape = (1, 102, 180, 360)\n",
       "              filling on),\n",
       "             ('o_sd', <class 'netCDF4._netCDF4.Variable'>\n",
       "              float32 o_sd(time, depth, lat, lon)\n",
       "                  standard_name: volume_fraction_of_oxygen_in_sea_water\n",
       "                  long_name: The standard deviation about the statistical mean of volume_fraction_of_oxygen_in_sea_water in each grid-square at each standard depth level.\n",
       "                  cell_methods: area: mean depth: mean time: standard deviation\n",
       "                  grid_mapping: crs\n",
       "                  units: milliliters_per_liter\n",
       "                  _FillValue: 9.96921e+36\n",
       "              unlimited dimensions: \n",
       "              current shape = (1, 102, 180, 360)\n",
       "              filling on),\n",
       "             ('o_se', <class 'netCDF4._netCDF4.Variable'>\n",
       "              float32 o_se(time, depth, lat, lon)\n",
       "                  standard_name: volume_fraction_of_oxygen_in_sea_water\n",
       "                  long_name: The standard error about the statistical mean of volume_fraction_of_oxygen_in_sea_water in each grid-square at each standard depth level.\n",
       "                  cell_methods: area: mean depth: mean time: mean\n",
       "                  grid_mapping: crs\n",
       "                  units: milliliters_per_liter\n",
       "                  _FillValue: 9.96921e+36\n",
       "              unlimited dimensions: \n",
       "              current shape = (1, 102, 180, 360)\n",
       "              filling on),\n",
       "             ('o_oa', <class 'netCDF4._netCDF4.Variable'>\n",
       "              float32 o_oa(time, depth, lat, lon)\n",
       "                  standard_name: volume_fraction_of_oxygen_in_sea_water\n",
       "                  long_name: statistical mean value minus the objectively analyzed mean value for volume_fraction_of_oxygen_in_sea_water.\n",
       "                  cell_methods: area: mean depth: mean time: mean\n",
       "                  grid_mapping: crs\n",
       "                  units: milliliters_per_liter\n",
       "                  _FillValue: 9.96921e+36\n",
       "              unlimited dimensions: \n",
       "              current shape = (1, 102, 180, 360)\n",
       "              filling on),\n",
       "             ('o_gp', <class 'netCDF4._netCDF4.Variable'>\n",
       "              int32 o_gp(time, depth, lat, lon)\n",
       "                  standard_name: volume_fraction_of_oxygen_in_sea_water\n",
       "                  long_name: The number of grid-squares within the smallest radius of influence around each grid-square which contain a statistical mean for volume_fraction_of_oxygen_in_sea_water.\n",
       "                  cell_methods: area: mean depth: mean time: mean\n",
       "                  grid_mapping: crs\n",
       "                  units: 1\n",
       "                  _FillValue: -32767\n",
       "              unlimited dimensions: \n",
       "              current shape = (1, 102, 180, 360)\n",
       "              filling on)])"
      ]
     },
     "execution_count": 3,
     "metadata": {},
     "output_type": "execute_result"
    }
   ],
   "source": [
    "#lists all available variables in the file. \n",
    "flf.variables"
   ]
  },
  {
   "cell_type": "code",
   "execution_count": 4,
   "metadata": {
    "ExecuteTime": {
     "end_time": "2020-04-28T19:10:44.643504Z",
     "start_time": "2020-04-28T19:10:44.626931Z"
    }
   },
   "outputs": [
    {
     "data": {
      "text/plain": [
       "<class 'netCDF4._netCDF4.Variable'>\n",
       "float32 o_an(time, depth, lat, lon)\n",
       "    standard_name: volume_fraction_of_oxygen_in_sea_water\n",
       "    long_name: Objectively analyzed mean fields for volume_fraction_of_oxygen_in_sea_water at standard depth levels.\n",
       "    cell_methods: area: mean depth: mean time: mean\n",
       "    grid_mapping: crs\n",
       "    units: milliliters_per_liter\n",
       "    _FillValue: 9.96921e+36\n",
       "unlimited dimensions: \n",
       "current shape = (1, 102, 180, 360)\n",
       "filling on"
      ]
     },
     "execution_count": 4,
     "metadata": {},
     "output_type": "execute_result"
    }
   ],
   "source": [
    "#look more at one variable: the annual mean of O2 in seawater.\n",
    "flf.variables['o_an']"
   ]
  },
  {
   "cell_type": "markdown",
   "metadata": {},
   "source": [
    "#### Notes:\n",
    "Keep an eye on the shapes. They'll tell you a lot about how the data is structured. For example, the variable \"o_an\" is the\n",
    "annual mean of O2 concentration in seawater at set depth levels. The shape is defined in the structure: float32 o_an(time, depth, lat, lon) with the atcual shape being (1, 102, 180, 360). This shape indicates that time = 1 (annual mean), depth = 102 depths, +90/-90 lat, +180/-180 lon."
   ]
  },
  {
   "cell_type": "code",
   "execution_count": 5,
   "metadata": {
    "ExecuteTime": {
     "end_time": "2020-04-28T19:11:09.152662Z",
     "start_time": "2020-04-28T19:11:09.131849Z"
    }
   },
   "outputs": [
    {
     "data": {
      "text/plain": [
       "(masked_array(data=[-89.5, -88.5, -87.5, -86.5, -85.5],\n",
       "              mask=False,\n",
       "        fill_value=1e+20,\n",
       "             dtype=float32),\n",
       " masked_array(data=[-179.5, -178.5, -177.5, -176.5, -175.5],\n",
       "              mask=False,\n",
       "        fill_value=1e+20,\n",
       "             dtype=float32))"
      ]
     },
     "execution_count": 5,
     "metadata": {},
     "output_type": "execute_result"
    }
   ],
   "source": [
    "#declare the lat and lon as separate variables\n",
    "lat = flf.variables['lat'][:]\n",
    "lon = flf.variables['lon'][:]\n",
    "(lat[:5], lon[:5])"
   ]
  },
  {
   "cell_type": "code",
   "execution_count": 6,
   "metadata": {
    "ExecuteTime": {
     "end_time": "2020-04-28T19:11:24.232225Z",
     "start_time": "2020-04-28T19:11:24.224880Z"
    }
   },
   "outputs": [
    {
     "data": {
      "text/plain": [
       "masked_array(data=[0.00e+00, 5.00e+00, 1.00e+01, 1.50e+01, 2.00e+01,\n",
       "                   2.50e+01, 3.00e+01, 3.50e+01, 4.00e+01, 4.50e+01,\n",
       "                   5.00e+01, 5.50e+01, 6.00e+01, 6.50e+01, 7.00e+01,\n",
       "                   7.50e+01, 8.00e+01, 8.50e+01, 9.00e+01, 9.50e+01,\n",
       "                   1.00e+02, 1.25e+02, 1.50e+02, 1.75e+02, 2.00e+02,\n",
       "                   2.25e+02, 2.50e+02, 2.75e+02, 3.00e+02, 3.25e+02,\n",
       "                   3.50e+02, 3.75e+02, 4.00e+02, 4.25e+02, 4.50e+02,\n",
       "                   4.75e+02, 5.00e+02, 5.50e+02, 6.00e+02, 6.50e+02,\n",
       "                   7.00e+02, 7.50e+02, 8.00e+02, 8.50e+02, 9.00e+02,\n",
       "                   9.50e+02, 1.00e+03, 1.05e+03, 1.10e+03, 1.15e+03,\n",
       "                   1.20e+03, 1.25e+03, 1.30e+03, 1.35e+03, 1.40e+03,\n",
       "                   1.45e+03, 1.50e+03, 1.55e+03, 1.60e+03, 1.65e+03,\n",
       "                   1.70e+03, 1.75e+03, 1.80e+03, 1.85e+03, 1.90e+03,\n",
       "                   1.95e+03, 2.00e+03, 2.10e+03, 2.20e+03, 2.30e+03,\n",
       "                   2.40e+03, 2.50e+03, 2.60e+03, 2.70e+03, 2.80e+03,\n",
       "                   2.90e+03, 3.00e+03, 3.10e+03, 3.20e+03, 3.30e+03,\n",
       "                   3.40e+03, 3.50e+03, 3.60e+03, 3.70e+03, 3.80e+03,\n",
       "                   3.90e+03, 4.00e+03, 4.10e+03, 4.20e+03, 4.30e+03,\n",
       "                   4.40e+03, 4.50e+03, 4.60e+03, 4.70e+03, 4.80e+03,\n",
       "                   4.90e+03, 5.00e+03, 5.10e+03, 5.20e+03, 5.30e+03,\n",
       "                   5.40e+03, 5.50e+03],\n",
       "             mask=False,\n",
       "       fill_value=1e+20,\n",
       "            dtype=float32)"
      ]
     },
     "execution_count": 6,
     "metadata": {},
     "output_type": "execute_result"
    }
   ],
   "source": [
    "#How to find out what the depth options are\n",
    "allDepths = flf.variables['depth'][:]\n",
    "allDepths"
   ]
  },
  {
   "cell_type": "code",
   "execution_count": 9,
   "metadata": {
    "ExecuteTime": {
     "end_time": "2020-04-28T19:12:37.814716Z",
     "start_time": "2020-04-28T19:12:37.802458Z"
    }
   },
   "outputs": [
    {
     "data": {
      "text/plain": [
       "masked_array(data=[   0,    5,   10,   15,   20,   25,   30,   35,   40,\n",
       "                     45,   50,   55,   60,   65,   70,   75,   80,   85,\n",
       "                     90,   95,  100,  125,  150,  175,  200,  225,  250,\n",
       "                    275,  300,  325,  350,  375,  400,  425,  450,  475,\n",
       "                    500,  550,  600,  650,  700,  750,  800,  850,  900,\n",
       "                    950, 1000, 1050, 1100, 1150, 1200, 1250, 1300, 1350,\n",
       "                   1400, 1450, 1500, 1550, 1600, 1650, 1700, 1750, 1800,\n",
       "                   1850, 1900, 1950, 2000, 2100, 2200, 2300, 2400, 2500,\n",
       "                   2600, 2700, 2800, 2900, 3000, 3100, 3200, 3300, 3400,\n",
       "                   3500, 3600, 3700, 3800, 3900, 4000, 4100, 4200, 4300,\n",
       "                   4400, 4500, 4600, 4700, 4800, 4900, 5000, 5100, 5200,\n",
       "                   5300, 5400, 5500],\n",
       "             mask=False,\n",
       "       fill_value=-9223372036854775808)"
      ]
     },
     "execution_count": 9,
     "metadata": {},
     "output_type": "execute_result"
    }
   ],
   "source": [
    "#Convert the depths from float to integer type\n",
    "allDepthsInt = allDepths.astype(int)\n",
    "allDepthsInt"
   ]
  },
  {
   "cell_type": "code",
   "execution_count": null,
   "metadata": {},
   "outputs": [],
   "source": []
  }
 ],
 "metadata": {
  "kernelspec": {
   "display_name": "Python 3",
   "language": "python",
   "name": "python3"
  },
  "language_info": {
   "codemirror_mode": {
    "name": "ipython",
    "version": 3
   },
   "file_extension": ".py",
   "mimetype": "text/x-python",
   "name": "python",
   "nbconvert_exporter": "python",
   "pygments_lexer": "ipython3",
   "version": "3.6.7"
  },
  "toc": {
   "base_numbering": 1,
   "nav_menu": {},
   "number_sections": true,
   "sideBar": true,
   "skip_h1_title": false,
   "title_cell": "Table of Contents",
   "title_sidebar": "Contents",
   "toc_cell": false,
   "toc_position": {},
   "toc_section_display": true,
   "toc_window_display": false
  },
  "varInspector": {
   "cols": {
    "lenName": 16,
    "lenType": 16,
    "lenVar": 40
   },
   "kernels_config": {
    "python": {
     "delete_cmd_postfix": "",
     "delete_cmd_prefix": "del ",
     "library": "var_list.py",
     "varRefreshCmd": "print(var_dic_list())"
    },
    "r": {
     "delete_cmd_postfix": ") ",
     "delete_cmd_prefix": "rm(",
     "library": "var_list.r",
     "varRefreshCmd": "cat(var_dic_list()) "
    }
   },
   "types_to_exclude": [
    "module",
    "function",
    "builtin_function_or_method",
    "instance",
    "_Feature"
   ],
   "window_display": false
  }
 },
 "nbformat": 4,
 "nbformat_minor": 2
}
